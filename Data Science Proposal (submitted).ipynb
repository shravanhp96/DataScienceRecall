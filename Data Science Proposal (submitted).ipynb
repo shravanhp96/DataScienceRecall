{
 "cells": [
  {
   "cell_type": "markdown",
   "metadata": {},
   "source": [
    "# Data Science Project: Investigation into Medical Device Recalls\n",
    "* Dane Lacey, Sidney Washburn, Shravan Parthasarathy"
   ]
  },
  {
   "cell_type": "markdown",
   "metadata": {},
   "source": [
    "### Basic Info\n",
    "\n",
    "According to the FDA's Establishment Registration - 21 CFR Part 807, \"Manufacturers (both domestic and foreign) and initial distributors (importers) of medical devices must register their establishments with the FDA.\" That is to say, companies that wish to manufacture and sell medical devices in US markets must register their devices through the Food and Drug Administration. \n",
    "\n",
    "This means that the FDA has extensive data on medical devices, and more importantly here, their recalls. Recalls are an \"effective method for removing or correcting marketed products, their labeling, and/or promotional literature that violate the laws administered by the Food and Drug Administration\"$^1$. For example, a device may be recalled if a certain wire has been observed to be fraying after a months use, or a seal on a gasket has been consistently leaking. What we have set out to do is analyze this data in detail, and to try to quantify the responsiveness of medical device manufactures in US markets through a variety of measures.\n",
    "\n",
    "<sub>$^1$ according to FDA Regulatory Procedures Manual, Ch.7, August 2018"
   ]
  },
  {
   "cell_type": "markdown",
   "metadata": {},
   "source": [
    "### Background and Motivation\n",
    "\n",
    "When purchasing a medical device -- say, a pacemaker -- the history of responsiveness of the company is of immediate interest. One would not wish to purchase any kind of medical device from a company that has poor, or even non-existent, response time when a device of theirs is recalled. "
   ]
  },
  {
   "cell_type": "markdown",
   "metadata": {},
   "source": [
    "### Project Objectives\n",
    "\n",
    "Our goal is to find significant statistical correlations between variables of recalled medical devices, such as: device class, country of origin, recall reason, and recall termination date; in order to provide a reliability measure for each medical device manufacturer. This will provide important information on which companies act quickly when a device is recalled, that is, how \"reliable\" they are."
   ]
  },
  {
   "cell_type": "markdown",
   "metadata": {},
   "source": [
    "### Data\n",
    "\n",
    "We will be analyzing .csv tables of recalled medical devices from 2010-2014 from the FDA's website$^2$. We will also be using an auxiliary .csv table from the same website to determine company attributes such as country of origin, and number of factories.\n",
    "\n",
    "<sub> $^2$ https://www.fda.gov/MedicalDevices/DeviceRegulationandGuidance/Databases/default.htm"
   ]
  },
  {
   "cell_type": "markdown",
   "metadata": {},
   "source": [
    "### Ethical Considerations\n",
    "\n",
    "Considerations of these type will become apparent as the project progresses. Clearly, this project will not put some companies \"in the best light\". This is a concern because we do not wish to defame companies, only to provide useful data to the consumer.\n",
    "\n",
    "Another concern is the timeline. We must consider data several years prior, since companies need sufficient time to address (or not) a recall. Based on scant analysis, it seems that 5 years is sufficient for a company to provide a \"Termination Date\" to their product recall data."
   ]
  },
  {
   "cell_type": "markdown",
   "metadata": {},
   "source": [
    "### Data Processing\n",
    "\n",
    "Our project deals with a large amount of data, but not more than is manageable in python. Our data is mostly clean the way it is as it is directly obtained from the FDA website, but does requires some cleaning of erroneous and duplicate entries in the .csv tables. The numerous .csv tables will need to be collected into a dataframe before such cleaning can take place, due to a limitation of the FDA's website."
   ]
  },
  {
   "cell_type": "markdown",
   "metadata": {},
   "source": [
    "### Data Analysis\n",
    "\n",
    "Two data analysis techniques which seem fruitful here are decision trees or similar classification analysis, and linear regression. These two analysis techniques may lead to insight, which would then require other analysis to furthur exploit.\n",
    "\n",
    "For visualization purposes, we intend to comb the .csv tables for \"Recall Reasons\", and project averages of words or phrases to form a word cloud for a given company or brand. We believe this type of visualization analysis will lead to furthur insight, and even more questions. "
   ]
  },
  {
   "cell_type": "markdown",
   "metadata": {},
   "source": [
    "### Analysis Methodology\n",
    "\n",
    "It is difficult to exactly detail our analysis methodology, before we've had the opportunity to begin our analysis. So far, we have decided to make a decision tree based on locale of the manufactures, and to use linear regression on the device classes. \n",
    "For instance, we would be developing a decision tree such that if someone were looking for a medical device, they could make a decision based initially on the device location; further specifications would be dictated by any trends or correlations observed from the datasets. \n",
    "Additionally, we would also try to develop (multi-) linear correlations between the device class (which is an indicator of the potential severity of the device) and the amount of recalls, which companies have the most or least amount of recalls, and potentially what category the device is. "
   ]
  },
  {
   "cell_type": "markdown",
   "metadata": {},
   "source": [
    "### Project Schedule\n",
    "    - Week 1, 3/3-3/9 -\n",
    "        -Clean data from downloaded .csv files\n",
    "        -Get/give peer feedback 3/7\n",
    "    -Week 2, 3/10-3/16 -\n",
    "        -Start initial analysis\n",
    "            -Branch off analysis based on fruitful paths\n",
    "        -Get feedback from staff 3/10\n",
    "    Week 3, 3/17-3/23 - \n",
    "        -Continue analysis\n",
    "            -Begin to Classify companies\n",
    "    Week 4, 3/24-3/30 -\n",
    "        -Continue analysis\n",
    "        -Begin visualization\n",
    "    Week 5, 3/31-4/6 -\n",
    "        -Submit project milestone 3/31\n",
    "        -Get personal staff feedback 4/1-4/5\n",
    "    Week 6, 4/7-4/13 -\n",
    "        -Continue analysis\n",
    "        -Continue visualization\n",
    "    Week 7, 4/14-4/20 -\n",
    "        -Assess project goals\n",
    "        -Finish project write up\n",
    "        -Make video\n",
    "    Week 8,4/21-4/27 - \n",
    "        -Submit Final Project 4/21\n",
    "        -Project Awards 4/23"
   ]
  }
 ],
 "metadata": {
  "kernelspec": {
   "display_name": "Python 3",
   "language": "python",
   "name": "python3"
  },
  "language_info": {
   "codemirror_mode": {
    "name": "ipython",
    "version": 3
   },
   "file_extension": ".py",
   "mimetype": "text/x-python",
   "name": "python",
   "nbconvert_exporter": "python",
   "pygments_lexer": "ipython3",
   "version": "3.6.1"
  }
 },
 "nbformat": 4,
 "nbformat_minor": 2
}
